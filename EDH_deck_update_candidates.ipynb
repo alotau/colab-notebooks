{
  "nbformat": 4,
  "nbformat_minor": 0,
  "metadata": {
    "colab": {
      "provenance": [],
      "toc_visible": true,
      "authorship_tag": "ABX9TyOZGf8MuPRZjTh9cRQmtMit",
      "include_colab_link": true
    },
    "kernelspec": {
      "name": "python3",
      "display_name": "Python 3"
    },
    "language_info": {
      "name": "python"
    },
    "widgets": {
      "application/vnd.jupyter.widget-state+json": {
        "2dd37858a91f4faa94751e330801cb41": {
          "model_module": "@jupyter-widgets/controls",
          "model_name": "TextModel",
          "model_module_version": "1.5.0",
          "state": {
            "_dom_classes": [],
            "_model_module": "@jupyter-widgets/controls",
            "_model_module_version": "1.5.0",
            "_model_name": "TextModel",
            "_view_count": null,
            "_view_module": "@jupyter-widgets/controls",
            "_view_module_version": "1.5.0",
            "_view_name": "TextView",
            "continuous_update": true,
            "description": "Card Name:",
            "description_tooltip": null,
            "disabled": false,
            "layout": "IPY_MODEL_c3eaf1d0064945deb54b536ea3f0dba6",
            "placeholder": "Enter card name",
            "style": "IPY_MODEL_1dbdb2effbad4770bdeb4fd377cd0ac2",
            "value": "fish"
          }
        },
        "c3eaf1d0064945deb54b536ea3f0dba6": {
          "model_module": "@jupyter-widgets/base",
          "model_name": "LayoutModel",
          "model_module_version": "1.2.0",
          "state": {
            "_model_module": "@jupyter-widgets/base",
            "_model_module_version": "1.2.0",
            "_model_name": "LayoutModel",
            "_view_count": null,
            "_view_module": "@jupyter-widgets/base",
            "_view_module_version": "1.2.0",
            "_view_name": "LayoutView",
            "align_content": null,
            "align_items": null,
            "align_self": null,
            "border": null,
            "bottom": null,
            "display": null,
            "flex": null,
            "flex_flow": null,
            "grid_area": null,
            "grid_auto_columns": null,
            "grid_auto_flow": null,
            "grid_auto_rows": null,
            "grid_column": null,
            "grid_gap": null,
            "grid_row": null,
            "grid_template_areas": null,
            "grid_template_columns": null,
            "grid_template_rows": null,
            "height": null,
            "justify_content": null,
            "justify_items": null,
            "left": null,
            "margin": null,
            "max_height": null,
            "max_width": null,
            "min_height": null,
            "min_width": null,
            "object_fit": null,
            "object_position": null,
            "order": null,
            "overflow": null,
            "overflow_x": null,
            "overflow_y": null,
            "padding": null,
            "right": null,
            "top": null,
            "visibility": null,
            "width": null
          }
        },
        "1dbdb2effbad4770bdeb4fd377cd0ac2": {
          "model_module": "@jupyter-widgets/controls",
          "model_name": "DescriptionStyleModel",
          "model_module_version": "1.5.0",
          "state": {
            "_model_module": "@jupyter-widgets/controls",
            "_model_module_version": "1.5.0",
            "_model_name": "DescriptionStyleModel",
            "_view_count": null,
            "_view_module": "@jupyter-widgets/base",
            "_view_module_version": "1.2.0",
            "_view_name": "StyleView",
            "description_width": ""
          }
        },
        "970bfb82664c4a57b26dcd0d633d4159": {
          "model_module": "@jupyter-widgets/controls",
          "model_name": "ButtonModel",
          "model_module_version": "1.5.0",
          "state": {
            "_dom_classes": [],
            "_model_module": "@jupyter-widgets/controls",
            "_model_module_version": "1.5.0",
            "_model_name": "ButtonModel",
            "_view_count": null,
            "_view_module": "@jupyter-widgets/controls",
            "_view_module_version": "1.5.0",
            "_view_name": "ButtonView",
            "button_style": "",
            "description": "Search",
            "disabled": false,
            "icon": "",
            "layout": "IPY_MODEL_38e628fce67c4ffd8b30a5cdda707729",
            "style": "IPY_MODEL_d74ce4b3ffa140938dbabd3915bcdf7b",
            "tooltip": ""
          }
        },
        "38e628fce67c4ffd8b30a5cdda707729": {
          "model_module": "@jupyter-widgets/base",
          "model_name": "LayoutModel",
          "model_module_version": "1.2.0",
          "state": {
            "_model_module": "@jupyter-widgets/base",
            "_model_module_version": "1.2.0",
            "_model_name": "LayoutModel",
            "_view_count": null,
            "_view_module": "@jupyter-widgets/base",
            "_view_module_version": "1.2.0",
            "_view_name": "LayoutView",
            "align_content": null,
            "align_items": null,
            "align_self": null,
            "border": null,
            "bottom": null,
            "display": null,
            "flex": null,
            "flex_flow": null,
            "grid_area": null,
            "grid_auto_columns": null,
            "grid_auto_flow": null,
            "grid_auto_rows": null,
            "grid_column": null,
            "grid_gap": null,
            "grid_row": null,
            "grid_template_areas": null,
            "grid_template_columns": null,
            "grid_template_rows": null,
            "height": null,
            "justify_content": null,
            "justify_items": null,
            "left": null,
            "margin": null,
            "max_height": null,
            "max_width": null,
            "min_height": null,
            "min_width": null,
            "object_fit": null,
            "object_position": null,
            "order": null,
            "overflow": null,
            "overflow_x": null,
            "overflow_y": null,
            "padding": null,
            "right": null,
            "top": null,
            "visibility": null,
            "width": null
          }
        },
        "d74ce4b3ffa140938dbabd3915bcdf7b": {
          "model_module": "@jupyter-widgets/controls",
          "model_name": "ButtonStyleModel",
          "model_module_version": "1.5.0",
          "state": {
            "_model_module": "@jupyter-widgets/controls",
            "_model_module_version": "1.5.0",
            "_model_name": "ButtonStyleModel",
            "_view_count": null,
            "_view_module": "@jupyter-widgets/base",
            "_view_module_version": "1.2.0",
            "_view_name": "StyleView",
            "button_color": null,
            "font_weight": ""
          }
        },
        "8cbdfd249fb047118642c9b9f4a030b3": {
          "model_module": "@jupyter-widgets/output",
          "model_name": "OutputModel",
          "model_module_version": "1.0.0",
          "state": {
            "_dom_classes": [],
            "_model_module": "@jupyter-widgets/output",
            "_model_module_version": "1.0.0",
            "_model_name": "OutputModel",
            "_view_count": null,
            "_view_module": "@jupyter-widgets/output",
            "_view_module_version": "1.0.0",
            "_view_name": "OutputView",
            "layout": "IPY_MODEL_a7507a808df14d30ada1da3f58a2e33f",
            "msg_id": "",
            "outputs": [
              {
                "output_type": "display_data",
                "data": {
                  "text/plain": "<IPython.core.display.HTML object>",
                  "text/html": "<div style=\"display: grid; grid-template-columns: repeat(auto-fit, minmax(150px, 1fr)); grid-gap: 10px;\"><img src=\"https://cards.scryfall.io/normal/front/9/2/92b8cd57-df68-4f6d-9612-21e66b9f0190.jpg?1675199177\" alt=\"Aven Fisher\" style=\"width: 100%; height: auto;\"><img src=\"https://cards.scryfall.io/normal/front/4/0/40f0d1cc-222c-4203-8bf7-a6941d2970ff.jpg?1673913460\" alt=\"Blufferfish\" style=\"width: 100%; height: auto;\"><img src=\"https://cards.scryfall.io/normal/front/4/7/47f0e0b9-d137-46ac-a6e4-13a529e30bb5.jpg?1721428318\" alt=\"Fisher's Talent\" style=\"width: 100%; height: auto;\"><img src=\"https://cards.scryfall.io/normal/front/c/9/c95ab836-3277-4223-9aaa-ef2c77256b65.jpg?1730489076\" alt=\"Fishing Pole\" style=\"width: 100%; height: auto;\"><img src=\"https://cards.scryfall.io/normal/front/c/3/c3c4a1f4-0a8e-4e70-a2a8-ceebbca63b6c.jpg?1562741330\" alt=\"Fishliver Oil\" style=\"width: 100%; height: auto;\"><img src=\"https://cards.scryfall.io/normal/front/0/d/0d85d8c7-07b2-4577-8c62-7a34dca73ad8.jpg?1696636708\" alt=\"Frost Fair Lure Fish\" style=\"width: 100%; height: auto;\"><img src=\"https://cards.scryfall.io/normal/front/8/4/84f18188-70fa-433e-a114-2f1dd49388ed.jpg?1559603739\" alt=\"Island Fish Jasconius\" style=\"width: 100%; height: auto;\"><img src=\"https://cards.scryfall.io/normal/front/6/8/68c29762-6859-4564-9e1d-a87fa63b951a.jpg?1686968173\" alt=\"Ithilien Kingfisher\" style=\"width: 100%; height: auto;\"><img src=\"https://cards.scryfall.io/normal/front/4/4/442bc3ba-00b3-4616-a5b2-55524ff8a736.jpg?1562443756\" alt=\"Kingfisher\" style=\"width: 100%; height: auto;\"><img src=\"https://cards.scryfall.io/normal/front/c/7/c7fb7f4f-2153-4527-8f11-adbf508d3533.jpg?1721426127\" alt=\"Knightfisher\" style=\"width: 100%; height: auto;\"><img src=\"https://cards.scryfall.io/normal/front/d/7/d7501662-1216-4e08-bd2b-e0a459057942.jpg?1593812836\" alt=\"Kor Skyfisher\" style=\"width: 100%; height: auto;\"><img src=\"https://cards.scryfall.io/normal/front/0/0/0002ab72-834b-4c81-82b1-0d2760ea96b0.jpg?1596250027\" alt=\"Mystic Skyfish\" style=\"width: 100%; height: auto;\"><img src=\"https://cards.scryfall.io/normal/front/7/5/752537c6-ee47-46c5-a6c7-cbf16e3a1dcf.jpg?1562919650\" alt=\"Numbing Jellyfish\" style=\"width: 100%; height: auto;\"><img src=\"https://cards.scryfall.io/normal/front/b/a/bad0e96a-b4cc-4439-aab9-731a1036145d.jpg?1675956984\" alt=\"Quicksilver Fisher\" style=\"width: 100%; height: auto;\"><img src=\"https://cards.scryfall.io/normal/front/5/3/533b1a2c-ead1-4636-9c88-e9b582042372.jpg?1724258480\" alt=\"Shellfish Scholar\" style=\"width: 100%; height: auto;\"><img src=\"https://cards.scryfall.io/normal/front/7/a/7a1a93c3-8561-4c65-bea8-a9c3a898a48c.jpg?1600698677\" alt=\"Sigiled Starfish\" style=\"width: 100%; height: auto;\"><img src=\"https://cards.scryfall.io/normal/front/5/f/5f75b7f4-249c-4b10-a06d-6b7654cccc46.jpg?1706240797\" alt=\"Sinister Starfish\" style=\"width: 100%; height: auto;\"><img src=\"https://cards.scryfall.io/normal/front/8/7/87300ac8-8b6f-4c37-8058-beb59eaa66be.jpg?1674421851\" alt=\"Skyfisher Spider\" style=\"width: 100%; height: auto;\"><img src=\"https://cards.scryfall.io/normal/front/3/7/3742a0fb-4b86-49d6-b6fb-bd6a42fa1bcb.jpg?1664410580\" alt=\"Sleep with the Fishes\" style=\"width: 100%; height: auto;\"><img src=\"https://cards.scryfall.io/normal/front/b/0/b072ccea-816a-4176-9a77-478f207a9a1e.jpg?1562932234\" alt=\"Spiny Starfish\" style=\"width: 100%; height: auto;\"><img src=\"https://cards.scryfall.io/normal/front/0/1/0162a0b8-a2d1-4664-a445-331aee6d5175.jpg?1581479556\" alt=\"Stinging Lionfish\" style=\"width: 100%; height: auto;\"><img src=\"https://cards.scryfall.io/normal/front/c/6/c6783b19-4d23-445c-9c4c-bb485a1e4149.jpg?1562132065\" alt=\"Vivid Flying Fish\" style=\"width: 100%; height: auto;\"></div>"
                },
                "metadata": {}
              }
            ]
          }
        },
        "a7507a808df14d30ada1da3f58a2e33f": {
          "model_module": "@jupyter-widgets/base",
          "model_name": "LayoutModel",
          "model_module_version": "1.2.0",
          "state": {
            "_model_module": "@jupyter-widgets/base",
            "_model_module_version": "1.2.0",
            "_model_name": "LayoutModel",
            "_view_count": null,
            "_view_module": "@jupyter-widgets/base",
            "_view_module_version": "1.2.0",
            "_view_name": "LayoutView",
            "align_content": null,
            "align_items": null,
            "align_self": null,
            "border": null,
            "bottom": null,
            "display": null,
            "flex": null,
            "flex_flow": null,
            "grid_area": null,
            "grid_auto_columns": null,
            "grid_auto_flow": null,
            "grid_auto_rows": null,
            "grid_column": null,
            "grid_gap": null,
            "grid_row": null,
            "grid_template_areas": null,
            "grid_template_columns": null,
            "grid_template_rows": null,
            "height": null,
            "justify_content": null,
            "justify_items": null,
            "left": null,
            "margin": null,
            "max_height": null,
            "max_width": null,
            "min_height": null,
            "min_width": null,
            "object_fit": null,
            "object_position": null,
            "order": null,
            "overflow": null,
            "overflow_x": null,
            "overflow_y": null,
            "padding": null,
            "right": null,
            "top": null,
            "visibility": null,
            "width": null
          }
        }
      }
    }
  },
  "cells": [
    {
      "cell_type": "markdown",
      "metadata": {
        "id": "view-in-github",
        "colab_type": "text"
      },
      "source": [
        "<a href=\"https://colab.research.google.com/github/alotau/colab-notebooks/blob/main/EDH_deck_update_candidates.ipynb\" target=\"_parent\"><img src=\"https://colab.research.google.com/assets/colab-badge.svg\" alt=\"Open In Colab\"/></a>"
      ]
    },
    {
      "cell_type": "markdown",
      "source": [
        "# Introduction\n",
        "\n",
        "This project will help reproduce common research I perform whenever a new Magic the Gathering set comes out. Usually I will need to check for new cards that may fit into my existing decks. This involves some special searches using the Scryfall GUI. Now, with this notebook, I can do the same thing in a more repeatable way using the Scryfall API and Python code."
      ],
      "metadata": {
        "id": "YdtjTJZ07cNs"
      }
    },
    {
      "cell_type": "markdown",
      "source": [
        "## Fetching cards using Scryfall API"
      ],
      "metadata": {
        "id": "4Gs-vcETEazx"
      }
    },
    {
      "cell_type": "code",
      "source": [
        "# prompt: write a function to request json data from the scryfall api cards endpoint and provide an example of using it\n",
        "\n",
        "import requests\n",
        "import json\n",
        "\n",
        "def get_scryfall_cards(query=\"\"):\n",
        "  \"\"\"Requests JSON data from the Scryfall API cards endpoint.\n",
        "\n",
        "  Args:\n",
        "    query: A string representing the search query for the API.\n",
        "\n",
        "  Returns:\n",
        "    A JSON object containing the results of the Scryfall API request or an\n",
        "    empty dictionary if an error occurs.\n",
        "  \"\"\"\n",
        "  url = \"https://api.scryfall.com/cards/search\"\n",
        "  params = {\"q\": query}\n",
        "  try:\n",
        "      response = requests.get(url, params=params)\n",
        "      response.raise_for_status()  # Raise an exception for bad status codes (4xx or 5xx)\n",
        "      return response.json()\n",
        "  except requests.exceptions.RequestException as e:\n",
        "      print(f\"Error fetching data from Scryfall: {e}\")\n",
        "      return {}\n",
        "\n"
      ],
      "metadata": {
        "collapsed": true,
        "id": "WEYHZERCdhDL"
      },
      "execution_count": 1,
      "outputs": []
    },
    {
      "cell_type": "markdown",
      "source": [
        "## Displaying card images\n",
        "\n",
        "The following function will display card images for the cards that are returned from the Scryfall call."
      ],
      "metadata": {
        "id": "EAHnxzN6D54c"
      }
    },
    {
      "cell_type": "code",
      "source": [
        "# prompt: using the previously fetched data, write a function to display the card images in a grid that is responsive to the size of the display window\n",
        "\n",
        "import requests\n",
        "import json\n",
        "from IPython.display import display, HTML\n",
        "\n",
        "def display_cards_grid(data):\n",
        "    \"\"\"Displays card images in a responsive grid.\n",
        "\n",
        "    Args:\n",
        "      data: The JSON response from the Scryfall API.\n",
        "    \"\"\"\n",
        "\n",
        "    if data and data.get('data'):\n",
        "      html = '<div style=\"display: grid; grid-template-columns: repeat(auto-fit, minmax(150px, 1fr)); grid-gap: 10px;\">'\n",
        "      for card in data['data']:\n",
        "          if 'image_uris' in card and 'normal' in card['image_uris']:\n",
        "              html += f'<img src=\"{card[\"image_uris\"][\"normal\"]}\" alt=\"{card[\"name\"]}\" style=\"width: 100%; height: auto;\">'\n",
        "      html += '</div>'\n",
        "      display(HTML(html))\n",
        "    else:\n",
        "      print(\"No card data to display or invalid data format.\")\n"
      ],
      "metadata": {
        "collapsed": true,
        "id": "WbaaQh8oK_Mo"
      },
      "execution_count": 2,
      "outputs": []
    },
    {
      "cell_type": "markdown",
      "source": [
        "## Test it out\n",
        "\n",
        "If you want, you can try out the function to see how it works. This can be skipped and it won't affect the real work to come later. But if you want to test out displaying the cards, you will need to run this test first."
      ],
      "metadata": {
        "id": "Q7p16LrqDbDb"
      }
    },
    {
      "cell_type": "code",
      "source": [
        "# Example usage:\n",
        "# Search for pirate cards with power exactly 4.\n",
        "cards_data = get_scryfall_cards(query=\"type:pirate power:4\")\n",
        "\n",
        "# Check if the request was successful and data was retrieved\n",
        "if cards_data and \"data\" in cards_data:\n",
        "    print(f\"Found {len(cards_data['data'])} cards.\")\n",
        "    # Access individual cards\n",
        "    for card in cards_data['data']:\n",
        "      print(card['name'])\n",
        "else:\n",
        "    print(\"No cards found or an error occurred.\")"
      ],
      "metadata": {
        "colab": {
          "base_uri": "https://localhost:8080/"
        },
        "collapsed": true,
        "id": "ZASoopbWDTVJ",
        "outputId": "bcec372f-cb5f-4fd4-935c-5b4b3ca1d537"
      },
      "execution_count": 3,
      "outputs": [
        {
          "output_type": "stream",
          "name": "stdout",
          "text": [
            "Found 20 cards.\n",
            "Adéwalé, Breaker of Chains\n",
            "Angrath's Marauders\n",
            "Captivating Crew\n",
            "Coercive Recruiter\n",
            "Cutthroat Negotiator\n",
            "Dire Fleet Ravager\n",
            "Don Andres, the Renegade\n",
            "Emberwilde Captain\n",
            "Fathom Fleet Swordjack\n",
            "Gorehorn Raider\n",
            "Marauding Looter\n",
            "Pirate Ship\n",
            "Port Razer\n",
            "Ramirez DePietro\n",
            "Ramirez DePietro, Pillager\n",
            "Skyship Buccaneer\n",
            "Storm Fleet Arsonist\n",
            "Thunderhead Gunner\n",
            "Wanted Scoundrels\n",
            "Zara, Renegade Recruiter\n"
          ]
        }
      ]
    },
    {
      "cell_type": "markdown",
      "source": [
        "Display the cards that were just fetched. Note that this will only work if you ran the test above."
      ],
      "metadata": {
        "id": "D2PD0uBhEkYR"
      }
    },
    {
      "cell_type": "code",
      "source": [
        "\n",
        "if cards_data:\n",
        "    display_cards_grid(cards_data)\n",
        "else:\n",
        "    print(\"Failed to fetch card data.\")"
      ],
      "metadata": {
        "colab": {
          "base_uri": "https://localhost:8080/",
          "height": 681
        },
        "collapsed": true,
        "id": "zhpCzz1eD0tD",
        "outputId": "1540d56a-e6ed-45f1-cb4f-f55eb7682008"
      },
      "execution_count": 4,
      "outputs": [
        {
          "output_type": "display_data",
          "data": {
            "text/plain": [
              "<IPython.core.display.HTML object>"
            ],
            "text/html": [
              "<div style=\"display: grid; grid-template-columns: repeat(auto-fit, minmax(150px, 1fr)); grid-gap: 10px;\"><img src=\"https://cards.scryfall.io/normal/front/9/1/914efc24-5c3a-4d22-9d77-fce337a08d4d.jpg?1721423900\" alt=\"Adéwalé, Breaker of Chains\" style=\"width: 100%; height: auto;\"><img src=\"https://cards.scryfall.io/normal/front/c/f/cf0a0bef-ed72-4fdf-9799-6f6430c8a8a7.jpg?1712354371\" alt=\"Angrath's Marauders\" style=\"width: 100%; height: auto;\"><img src=\"https://cards.scryfall.io/normal/front/1/3/13710c49-496d-41f9-87a4-5794dea9145d.jpg?1712354398\" alt=\"Captivating Crew\" style=\"width: 100%; height: auto;\"><img src=\"https://cards.scryfall.io/normal/front/1/6/16a1d084-34f1-4278-ae54-d0dac288b1da.jpg?1698988313\" alt=\"Coercive Recruiter\" style=\"width: 100%; height: auto;\"><img src=\"https://cards.scryfall.io/normal/front/d/a/da250f2e-10f9-4626-af52-28ed70db94e5.jpg?1682207553\" alt=\"Cutthroat Negotiator\" style=\"width: 100%; height: auto;\"><img src=\"https://cards.scryfall.io/normal/front/0/d/0d114e88-c5bd-416d-b9f1-25be1432c98c.jpg?1712354281\" alt=\"Dire Fleet Ravager\" style=\"width: 100%; height: auto;\"><img src=\"https://cards.scryfall.io/normal/front/3/c/3cf9f3ae-694d-4d37-9498-4bdd1723a55e.jpg?1698987741\" alt=\"Don Andres, the Renegade\" style=\"width: 100%; height: auto;\"><img src=\"https://cards.scryfall.io/normal/front/3/6/362850cd-d33c-4f61-9b3a-5de748adee7c.jpg?1608910178\" alt=\"Emberwilde Captain\" style=\"width: 100%; height: auto;\"><img src=\"https://cards.scryfall.io/normal/front/5/3/53c267b7-dbd6-43c5-9741-10f635bff4b1.jpg?1616447015\" alt=\"Fathom Fleet Swordjack\" style=\"width: 100%; height: auto;\"><img src=\"https://cards.scryfall.io/normal/front/7/8/78ce6c40-3452-4aa0-a45b-dbfd70f8d220.jpg?1730488923\" alt=\"Gorehorn Raider\" style=\"width: 100%; height: auto;\"><img src=\"https://cards.scryfall.io/normal/front/3/c/3c41fee8-7b03-4dc8-babb-f8c8369a74c2.jpg?1562553806\" alt=\"Marauding Looter\" style=\"width: 100%; height: auto;\"><img src=\"https://cards.scryfall.io/normal/front/4/f/4f91724c-0e3b-4289-9af6-9de489d811eb.jpg?1562775982\" alt=\"Pirate Ship\" style=\"width: 100%; height: auto;\"><img src=\"https://cards.scryfall.io/normal/front/e/b/eb32429a-7ef9-418f-baf8-fed9aa010c9e.jpg?1698988335\" alt=\"Port Razer\" style=\"width: 100%; height: auto;\"><img src=\"https://cards.scryfall.io/normal/front/c/9/c9890742-f1cb-41fd-bf14-297b3ca88b93.jpg?1562937569\" alt=\"Ramirez DePietro\" style=\"width: 100%; height: auto;\"><img src=\"https://cards.scryfall.io/normal/front/1/1/11a4e199-faa9-4c41-863d-92170c8f20cc.jpg?1698988469\" alt=\"Ramirez DePietro, Pillager\" style=\"width: 100%; height: auto;\"><img src=\"https://cards.scryfall.io/normal/front/6/2/62958fc3-55dc-4b97-a070-490d6ed27820.jpg?1730488769\" alt=\"Skyship Buccaneer\" style=\"width: 100%; height: auto;\"><img src=\"https://cards.scryfall.io/normal/front/8/d/8d8ecb6d-f794-468b-8399-60a50aaa13ac.jpg?1562559744\" alt=\"Storm Fleet Arsonist\" style=\"width: 100%; height: auto;\"><img src=\"https://cards.scryfall.io/normal/front/e/f/ef537868-b2cb-4bbd-a935-b7f73f19bd06.jpg?1738359123\" alt=\"Thunderhead Gunner\" style=\"width: 100%; height: auto;\"><img src=\"https://cards.scryfall.io/normal/front/6/7/6704e4c9-3b5e-4ba5-a5bc-6d684e2983e9.jpg?1562556829\" alt=\"Wanted Scoundrels\" style=\"width: 100%; height: auto;\"><img src=\"https://cards.scryfall.io/normal/front/d/8/d8bd1312-2c3a-4591-943c-c1550b506fa4.jpg?1698988498\" alt=\"Zara, Renegade Recruiter\" style=\"width: 100%; height: auto;\"></div>"
            ]
          },
          "metadata": {}
        }
      ]
    },
    {
      "cell_type": "markdown",
      "source": [
        "# Just Search by Card Name\n",
        "\n",
        "This little section will let you just search for cards by name. No other parameters. Note that it will search for every card that contains the string you provide to it. So if you search for \"Shock\" then you'll get every card that has the word \"shock\" in it somewhere."
      ],
      "metadata": {
        "id": "hnEBBR8OE3mp"
      }
    },
    {
      "cell_type": "code",
      "source": [
        "import ipywidgets as widgets\n",
        "from IPython.display import display, clear_output\n",
        "\n",
        "# Assuming the previous code (get_scryfall_data, display_cards_grid) is defined in the same notebook\n",
        "\n",
        "# Create a text input widget\n",
        "card_name_input = widgets.Text(\n",
        "    placeholder='Enter card name',\n",
        "    description='Card Name:',\n",
        "    disabled=False\n",
        ")\n",
        "\n",
        "# Create an output widget to display results\n",
        "output = widgets.Output()\n",
        "\n",
        "def on_button_clicked(b):\n",
        "    with output:\n",
        "        clear_output()  # Clear previous output\n",
        "        card_name = card_name_input.value\n",
        "        if card_name:\n",
        "            query = f\"name=\\\"{card_name}\\\"\"  # Construct query with quotes\n",
        "            data = get_scryfall_cards(query)\n",
        "            if data:\n",
        "                display_cards_grid(data)\n",
        "            else:\n",
        "                print(f\"No card found with name: {card_name}\")\n",
        "        else:\n",
        "            print(\"Please enter a card name.\")\n",
        "\n",
        "# Create a button\n",
        "search_button = widgets.Button(description=\"Search\")\n",
        "search_button.on_click(on_button_clicked)\n",
        "\n",
        "\n",
        "# Display the widgets\n",
        "display(card_name_input, search_button, output)"
      ],
      "metadata": {
        "colab": {
          "base_uri": "https://localhost:8080/",
          "height": 745,
          "referenced_widgets": [
            "2dd37858a91f4faa94751e330801cb41",
            "c3eaf1d0064945deb54b536ea3f0dba6",
            "1dbdb2effbad4770bdeb4fd377cd0ac2",
            "970bfb82664c4a57b26dcd0d633d4159",
            "38e628fce67c4ffd8b30a5cdda707729",
            "d74ce4b3ffa140938dbabd3915bcdf7b",
            "8cbdfd249fb047118642c9b9f4a030b3",
            "a7507a808df14d30ada1da3f58a2e33f"
          ]
        },
        "id": "hWu9TvKELSwJ",
        "outputId": "019a9f19-9111-46a9-ccae-afba85291cd9"
      },
      "execution_count": 5,
      "outputs": [
        {
          "output_type": "display_data",
          "data": {
            "text/plain": [
              "Text(value='', description='Card Name:', placeholder='Enter card name')"
            ],
            "application/vnd.jupyter.widget-view+json": {
              "version_major": 2,
              "version_minor": 0,
              "model_id": "2dd37858a91f4faa94751e330801cb41"
            }
          },
          "metadata": {}
        },
        {
          "output_type": "display_data",
          "data": {
            "text/plain": [
              "Button(description='Search', style=ButtonStyle())"
            ],
            "application/vnd.jupyter.widget-view+json": {
              "version_major": 2,
              "version_minor": 0,
              "model_id": "970bfb82664c4a57b26dcd0d633d4159"
            }
          },
          "metadata": {}
        },
        {
          "output_type": "display_data",
          "data": {
            "text/plain": [
              "Output()"
            ],
            "application/vnd.jupyter.widget-view+json": {
              "version_major": 2,
              "version_minor": 0,
              "model_id": "8cbdfd249fb047118642c9b9f4a030b3"
            }
          },
          "metadata": {}
        }
      ]
    },
    {
      "cell_type": "markdown",
      "source": [],
      "metadata": {
        "id": "TV4D8PiLqjwi"
      }
    },
    {
      "cell_type": "code",
      "source": [
        "set_name = \"fdn\" #@param {type:\"string\"}\n",
        "\n",
        "query = f\"set={set_name} t:pirate colors<=grixis\"\n",
        "cards_data = get_scryfall_cards(query)\n",
        "\n",
        "if cards_data and \"data\" in cards_data:\n",
        "    print(f\"Found {len(cards_data['data'])} cards.\")\n",
        "    display_cards_grid(cards_data)\n",
        "else:\n",
        "    print(\"No cards found or an error occurred.\")"
      ],
      "metadata": {
        "colab": {
          "base_uri": "https://localhost:8080/",
          "height": 474
        },
        "id": "kLmjsDri16qW",
        "outputId": "284e1435-7123-4b7c-fc2f-997f860b558e"
      },
      "execution_count": 6,
      "outputs": [
        {
          "output_type": "stream",
          "name": "stdout",
          "text": [
            "Found 13 cards.\n"
          ]
        },
        {
          "output_type": "display_data",
          "data": {
            "text/plain": [
              "<IPython.core.display.HTML object>"
            ],
            "text/html": [
              "<div style=\"display: grid; grid-template-columns: repeat(auto-fit, minmax(150px, 1fr)); grid-gap: 10px;\"><img src=\"https://cards.scryfall.io/normal/front/9/b/9b1d5b76-b07e-45c6-800d-4cfce085164f.jpg?1730488703\" alt=\"Bigfin Bouncer\" style=\"width: 100%; height: auto;\"><img src=\"https://cards.scryfall.io/normal/front/a/c/acf7aafb-931f-49e5-8691-eab8cb34b05e.jpg?1730489171\" alt=\"Brineborn Cutthroat\" style=\"width: 100%; height: auto;\"><img src=\"https://cards.scryfall.io/normal/front/d/5/d5017dbc-07fd-45ea-9629-7c584144e8be.jpg?1730490522\" alt=\"Corsair Captain\" style=\"width: 100%; height: auto;\"><img src=\"https://cards.scryfall.io/normal/front/d/1/d1296316-7781-4e98-95e6-7020648be6a5.jpg?1730489321\" alt=\"Fanatical Firebrand\" style=\"width: 100%; height: auto;\"><img src=\"https://cards.scryfall.io/normal/front/4/4/4409a063-bf2a-4a49-803e-3ce6bd474353.jpg?1730506544\" alt=\"Goblin Boarders\" style=\"width: 100%; height: auto;\"><img src=\"https://cards.scryfall.io/normal/front/7/8/78ce6c40-3452-4aa0-a45b-dbfd70f8d220.jpg?1730488923\" alt=\"Gorehorn Raider\" style=\"width: 100%; height: auto;\"><img src=\"https://cards.scryfall.io/normal/front/9/0/909d7778-c7f8-4fa4-89f2-8b32e86e96e4.jpg?1730488806\" alt=\"Gutless Plunderer\" style=\"width: 100%; height: auto;\"><img src=\"https://cards.scryfall.io/normal/front/c/8/c82d7c6d-523c-46c9-a189-44c0bd8386d1.jpg?1730490536\" alt=\"Kitesail Corsair\" style=\"width: 100%; height: auto;\"><img src=\"https://cards.scryfall.io/normal/front/6/2/62958fc3-55dc-4b97-a070-490d6ed27820.jpg?1730488769\" alt=\"Skyship Buccaneer\" style=\"width: 100%; height: auto;\"><img src=\"https://cards.scryfall.io/normal/front/0/3/03a49535-c5f3-4a6f-b333-7ac7bffdc9ae.jpg?1730489213\" alt=\"Spectral Sailor\" style=\"width: 100%; height: auto;\"><img src=\"https://cards.scryfall.io/normal/front/f/6/f6c5206e-63db-44c0-86ab-f645cd358b3b.jpg?1730490555\" alt=\"Storm Fleet Spy\" style=\"width: 100%; height: auto;\"><img src=\"https://cards.scryfall.io/normal/front/b/2/b2223eb8-59f9-489b-a3f3-b6496218cb79.jpg?1730488952\" alt=\"Strongbox Raider\" style=\"width: 100%; height: auto;\"><img src=\"https://cards.scryfall.io/normal/front/8/d/8db11970-74c2-463d-88bb-9f88aa079eaa.jpg?1730490681\" alt=\"Swab Goblin\" style=\"width: 100%; height: auto;\"></div>"
            ]
          },
          "metadata": {}
        }
      ]
    },
    {
      "cell_type": "markdown",
      "source": [
        "# Deck Update Checks\n",
        "\n",
        "Each of the following subsections is a specific check for one of my commander decks to see if there are cards of interest to update those decks.\n",
        "\n",
        "This is where things get pretty specific using the general functions from above."
      ],
      "metadata": {
        "id": "YrZDRmhoLfRm"
      }
    },
    {
      "cell_type": "markdown",
      "source": [
        "## Pirates\n",
        "\n",
        "[My Grixis pirates deck](https://archidekt.com/decks/1797659/pirates) wants to know if there are any new pirates for it."
      ],
      "metadata": {
        "id": "Nc1wysjFC8O2"
      }
    },
    {
      "cell_type": "code",
      "source": [
        "# prompt: using the functions above, create a query that finds all pirates within grixis colors and from a specific set\n",
        "\n",
        "set_name = \"fdn\" #@param {type:\"string\"}\n",
        "\n",
        "query = f\"set={set_name} t:pirate colors<=grixis\"\n",
        "cards_data = get_scryfall_cards(query)\n",
        "\n",
        "if cards_data and \"data\" in cards_data:\n",
        "    print(f\"Found {len(cards_data['data'])} cards.\")\n",
        "    display_cards_grid(cards_data)\n",
        "else:\n",
        "    print(\"No cards found or an error occurred.\")"
      ],
      "metadata": {
        "colab": {
          "base_uri": "https://localhost:8080/",
          "height": 727
        },
        "id": "l6QFa6uTDHTF",
        "outputId": "2e112c3d-691c-4781-dcf6-740a2c7da790"
      },
      "execution_count": null,
      "outputs": [
        {
          "output_type": "stream",
          "name": "stdout",
          "text": [
            "Found 13 cards.\n"
          ]
        },
        {
          "output_type": "display_data",
          "data": {
            "text/plain": [
              "<IPython.core.display.HTML object>"
            ],
            "text/html": [
              "<div style=\"display: grid; grid-template-columns: repeat(auto-fit, minmax(150px, 1fr)); grid-gap: 10px;\"><img src=\"https://cards.scryfall.io/normal/front/9/b/9b1d5b76-b07e-45c6-800d-4cfce085164f.jpg?1730488703\" alt=\"Bigfin Bouncer\" style=\"width: 100%; height: auto;\"><img src=\"https://cards.scryfall.io/normal/front/a/c/acf7aafb-931f-49e5-8691-eab8cb34b05e.jpg?1730489171\" alt=\"Brineborn Cutthroat\" style=\"width: 100%; height: auto;\"><img src=\"https://cards.scryfall.io/normal/front/d/5/d5017dbc-07fd-45ea-9629-7c584144e8be.jpg?1730490522\" alt=\"Corsair Captain\" style=\"width: 100%; height: auto;\"><img src=\"https://cards.scryfall.io/normal/front/d/1/d1296316-7781-4e98-95e6-7020648be6a5.jpg?1730489321\" alt=\"Fanatical Firebrand\" style=\"width: 100%; height: auto;\"><img src=\"https://cards.scryfall.io/normal/front/4/4/4409a063-bf2a-4a49-803e-3ce6bd474353.jpg?1730506544\" alt=\"Goblin Boarders\" style=\"width: 100%; height: auto;\"><img src=\"https://cards.scryfall.io/normal/front/7/8/78ce6c40-3452-4aa0-a45b-dbfd70f8d220.jpg?1730488923\" alt=\"Gorehorn Raider\" style=\"width: 100%; height: auto;\"><img src=\"https://cards.scryfall.io/normal/front/9/0/909d7778-c7f8-4fa4-89f2-8b32e86e96e4.jpg?1730488806\" alt=\"Gutless Plunderer\" style=\"width: 100%; height: auto;\"><img src=\"https://cards.scryfall.io/normal/front/c/8/c82d7c6d-523c-46c9-a189-44c0bd8386d1.jpg?1730490536\" alt=\"Kitesail Corsair\" style=\"width: 100%; height: auto;\"><img src=\"https://cards.scryfall.io/normal/front/6/2/62958fc3-55dc-4b97-a070-490d6ed27820.jpg?1730488769\" alt=\"Skyship Buccaneer\" style=\"width: 100%; height: auto;\"><img src=\"https://cards.scryfall.io/normal/front/0/3/03a49535-c5f3-4a6f-b333-7ac7bffdc9ae.jpg?1730489213\" alt=\"Spectral Sailor\" style=\"width: 100%; height: auto;\"><img src=\"https://cards.scryfall.io/normal/front/f/6/f6c5206e-63db-44c0-86ab-f645cd358b3b.jpg?1730490555\" alt=\"Storm Fleet Spy\" style=\"width: 100%; height: auto;\"><img src=\"https://cards.scryfall.io/normal/front/b/2/b2223eb8-59f9-489b-a3f3-b6496218cb79.jpg?1730488952\" alt=\"Strongbox Raider\" style=\"width: 100%; height: auto;\"><img src=\"https://cards.scryfall.io/normal/front/8/d/8db11970-74c2-463d-88bb-9f88aa079eaa.jpg?1730490681\" alt=\"Swab Goblin\" style=\"width: 100%; height: auto;\"></div>"
            ]
          },
          "metadata": {}
        }
      ]
    },
    {
      "cell_type": "markdown",
      "source": [
        "## Saskia 7's\n",
        "\n",
        "[This deck](https://archidekt.com/decks/3030384/saskia_7s) concept taken from Jim LaPage leverages Wild Pair and a pile of creatures with toughness+power=7. Wild Pair really is the secret commander of this deck. Just give a set name and it will return all the creatures with the right sum of power and toughness from that set in Saskia's colors!"
      ],
      "metadata": {
        "id": "rSt83i0AFZP8"
      }
    },
    {
      "cell_type": "code",
      "source": [
        "# prompt: Using the Scryfall API and the previously created functions above, create an API call for all creatures that have Saskia's colors and whose power and toughness sum to 7 for a particular set.\n",
        "\n",
        "set_name = \"tdc\" #@param {type:\"string\"}\n",
        "\n",
        "query = f\"set={set_name} f:commander type:creature id<=wbrg pt=7 not:reprint\"\n",
        "cards_data = get_scryfall_cards(query)\n",
        "\n",
        "if cards_data and \"data\" in cards_data:\n",
        "    print(f\"Found {len(cards_data['data'])} cards.\")\n",
        "    display_cards_grid(cards_data)\n",
        "else:\n",
        "    print(\"No cards found or an error occurred.\")"
      ],
      "metadata": {
        "colab": {
          "base_uri": "https://localhost:8080/",
          "height": 631
        },
        "collapsed": true,
        "id": "JLy0__lFF3D0",
        "outputId": "644ee580-c2ac-49dc-98cb-f48a328a11ac"
      },
      "execution_count": 15,
      "outputs": [
        {
          "output_type": "stream",
          "name": "stdout",
          "text": [
            "Found 3 cards.\n"
          ]
        },
        {
          "output_type": "display_data",
          "data": {
            "text/plain": [
              "<IPython.core.display.HTML object>"
            ],
            "text/html": [
              "<div style=\"display: grid; grid-template-columns: repeat(auto-fit, minmax(150px, 1fr)); grid-gap: 10px;\"><img src=\"https://cards.scryfall.io/normal/front/2/8/2876d57a-a17e-4892-9992-321a32562e13.jpg?1743205804\" alt=\"Goldlust Triad\" style=\"width: 100%; height: auto;\"><img src=\"https://cards.scryfall.io/normal/front/6/d/6d3ba135-e8d6-443a-952b-5c93edb4523c.jpg?1743205812\" alt=\"Parapet Thrasher\" style=\"width: 100%; height: auto;\"><img src=\"https://cards.scryfall.io/normal/front/2/0/20f533fc-51d0-49bd-afcc-81b8b3ff9749.jpg?1743205860\" alt=\"Rampart Architect\" style=\"width: 100%; height: auto;\"></div>"
            ]
          },
          "metadata": {}
        }
      ]
    },
    {
      "cell_type": "markdown",
      "source": [
        "## Bello\n",
        "\n",
        "I love [my Bello deck](https://archidekt.com/decks/8759830/bigo_bello_enchanto). Look for Red/Green enhantments that cost at least 4 mana."
      ],
      "metadata": {
        "id": "vJP2kbjBGFKR"
      }
    },
    {
      "cell_type": "code",
      "source": [
        "\n",
        "set_name = \"tdm\" #@param {type:\"string\"}\n",
        "\n",
        "query = f\"set={set_name} f:commander type:enchantment id<=rg mv>=4 not:reprint\"\n",
        "cards_data = get_scryfall_cards(query)\n",
        "\n",
        "if cards_data and \"data\" in cards_data:\n",
        "    print(f\"Found {len(cards_data['data'])} cards.\")\n",
        "    display_cards_grid(cards_data)\n",
        "else:\n",
        "    print(\"No cards found or an error occurred.\")"
      ],
      "metadata": {
        "colab": {
          "base_uri": "https://localhost:8080/",
          "height": 478
        },
        "id": "h_0LFbqRGW5T",
        "outputId": "606c5583-d6b3-4dad-a0e2-d1d75d488b8d"
      },
      "execution_count": 14,
      "outputs": [
        {
          "output_type": "stream",
          "name": "stdout",
          "text": [
            "Found 4 cards.\n"
          ]
        },
        {
          "output_type": "display_data",
          "data": {
            "text/plain": [
              "<IPython.core.display.HTML object>"
            ],
            "text/html": [
              "<div style=\"display: grid; grid-template-columns: repeat(auto-fit, minmax(150px, 1fr)); grid-gap: 10px;\"><img src=\"https://cards.scryfall.io/normal/front/e/2/e2c2a069-7553-4879-abfb-b2aa3349e4b8.jpg?1743204368\" alt=\"Breaching Dragonstorm\" style=\"width: 100%; height: auto;\"><img src=\"https://cards.scryfall.io/normal/front/0/d/0d5674f9-22b2-45f9-902d-4fd245485c60.jpg?1743204385\" alt=\"Dracogenesis\" style=\"width: 100%; height: auto;\"><img src=\"https://cards.scryfall.io/normal/front/4/d/4ddd4477-f8c9-4d05-9177-f8344ba8f40b.jpg?1743204535\" alt=\"Encroaching Dragonstorm\" style=\"width: 100%; height: auto;\"><img src=\"https://cards.scryfall.io/normal/front/d/d/dd7f0413-c009-4c08-b877-9c1b776cbf26.jpg?1743204492\" alt=\"War Effort\" style=\"width: 100%; height: auto;\"></div>"
            ]
          },
          "metadata": {}
        }
      ]
    },
    {
      "cell_type": "markdown",
      "source": [
        "## Mono-Blue Scrybal\n",
        "\n",
        "Look for new, blue scry cards for [my scrybal deck](https://archidekt.com/decks/2206475/scrybal)."
      ],
      "metadata": {
        "id": "cdfbSXPHHBKv"
      }
    },
    {
      "cell_type": "code",
      "source": [
        "set_name = \"tdm\" #@param {type:\"string\"}\n",
        "\n",
        "query = f\"set={set_name} f:commander id<=u o:\\\"scry\\\" not:reprint\"\n",
        "cards_data = get_scryfall_cards(query)\n",
        "\n",
        "if cards_data and \"data\" in cards_data:\n",
        "    print(f\"Found {len(cards_data['data'])} cards.\")\n",
        "    display_cards_grid(cards_data)\n",
        "else:\n",
        "    print(\"No cards found or an error occurred.\")"
      ],
      "metadata": {
        "colab": {
          "base_uri": "https://localhost:8080/"
        },
        "id": "SntEXiCpG_tE",
        "outputId": "49e9c6e4-bd0f-464d-862d-666ff2fc6ffe"
      },
      "execution_count": 17,
      "outputs": [
        {
          "output_type": "stream",
          "name": "stdout",
          "text": [
            "Error fetching data from Scryfall: 404 Client Error: Not Found for url: https://api.scryfall.com/cards/search?q=set%3Dtdm+f%3Acommander+id%3C%3Du+o%3A%22scry%22+not%3Areprint\n",
            "No cards found or an error occurred.\n"
          ]
        }
      ]
    },
    {
      "cell_type": "markdown",
      "source": [
        "## Mono-White Legends Matter (Dog and Pony Show)\n",
        "\n",
        "A deck with [Yoshimaru and Keleth](https://archidekt.com/decks/7812709/dog_and_pony_show) at the helm. Look for new Legends to go in this deck."
      ],
      "metadata": {
        "id": "hRwhUkkBJLT_"
      }
    },
    {
      "cell_type": "code",
      "source": [
        "set_name = \"tdc\" #@param {type:\"string\"}\n",
        "\n",
        "query = f\"set={set_name} f:commander id<=w t:Legendary not:reprint\"\n",
        "cards_data = get_scryfall_cards(query)\n",
        "\n",
        "if cards_data and \"data\" in cards_data:\n",
        "    print(f\"Found {len(cards_data['data'])} cards.\")\n",
        "    display_cards_grid(cards_data)\n",
        "else:\n",
        "    print(\"No cards found or an error occurred.\")"
      ],
      "metadata": {
        "colab": {
          "base_uri": "https://localhost:8080/"
        },
        "id": "CLhv-amIJmRy",
        "outputId": "fef5a95d-f8e8-4ca4-c7f6-5ef3365b4e17"
      },
      "execution_count": 19,
      "outputs": [
        {
          "output_type": "stream",
          "name": "stdout",
          "text": [
            "Error fetching data from Scryfall: 404 Client Error: Not Found for url: https://api.scryfall.com/cards/search?q=set%3Dtdc+f%3Acommander+id%3C%3Dw+t%3ALegendary+not%3Areprint\n",
            "No cards found or an error occurred.\n"
          ]
        }
      ]
    }
  ]
}