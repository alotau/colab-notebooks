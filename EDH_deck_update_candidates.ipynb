{
  "nbformat": 4,
  "nbformat_minor": 0,
  "metadata": {
    "colab": {
      "provenance": [],
      "toc_visible": true,
      "authorship_tag": "ABX9TyOTjBoTQbrqR+O/Qx68JPm3",
      "include_colab_link": true
    },
    "kernelspec": {
      "name": "python3",
      "display_name": "Python 3"
    },
    "language_info": {
      "name": "python"
    }
  },
  "cells": [
    {
      "cell_type": "markdown",
      "metadata": {
        "id": "view-in-github",
        "colab_type": "text"
      },
      "source": [
        "<a href=\"https://colab.research.google.com/github/alotau/colab-notebooks/blob/main/EDH_deck_update_candidates.ipynb\" target=\"_parent\"><img src=\"https://colab.research.google.com/assets/colab-badge.svg\" alt=\"Open In Colab\"/></a>"
      ]
    },
    {
      "cell_type": "markdown",
      "source": [
        "# Introduction\n",
        "\n",
        "This project will help reproduce common research I perform whenever a new Magic the Gathering set comes out. Usually I will need to check for new cards that may fit into my existing decks. This involves some special searches using the Scryfall GUI. Now, with this notebook, I can do the same thing in a more repeatable way using the Scryfall API and Python code."
      ],
      "metadata": {
        "id": "YdtjTJZ07cNs"
      }
    },
    {
      "cell_type": "markdown",
      "source": [
        "## References\n",
        "\n",
        "Here are some links that are useful in extending or just understanding the code.\n",
        "\n",
        "* [Scryfall Search Syntax](https://scryfall.com/docs/syntax)\n",
        "* [Scryfall API](https://scryfall.com/docs/api)\n"
      ],
      "metadata": {
        "id": "9okXmLyDNGvq"
      }
    },
    {
      "cell_type": "markdown",
      "source": [
        "## Fetching cards using Scryfall API"
      ],
      "metadata": {
        "id": "4Gs-vcETEazx"
      }
    },
    {
      "cell_type": "code",
      "source": [
        "import requests\n",
        "import json\n",
        "\n",
        "def get_scryfall_cards(query=\"\"):\n",
        "  \"\"\"Requests JSON data from the Scryfall API cards endpoint.\n",
        "\n",
        "  Args:\n",
        "    query: A string representing the search query for the API.\n",
        "\n",
        "  Returns:\n",
        "    A JSON object containing the results of the Scryfall API request or an\n",
        "    empty dictionary if an error occurs.\n",
        "  \"\"\"\n",
        "  url = \"https://api.scryfall.com/cards/search\"\n",
        "  params = {\"q\": query}\n",
        "  try:\n",
        "      response = requests.get(url, params=params)\n",
        "      response.raise_for_status()  # Raise an exception for bad status codes (4xx or 5xx)\n",
        "      return response.json()\n",
        "  except requests.exceptions.RequestException as e:\n",
        "      print(f\"Error fetching data from Scryfall: {e}\")\n",
        "      return {}\n",
        "\n"
      ],
      "metadata": {
        "collapsed": true,
        "id": "WEYHZERCdhDL"
      },
      "execution_count": null,
      "outputs": []
    },
    {
      "cell_type": "markdown",
      "source": [
        "## Displaying card images\n",
        "\n",
        "The following function will display card images for the cards that are returned from the Scryfall call."
      ],
      "metadata": {
        "id": "EAHnxzN6D54c"
      }
    },
    {
      "cell_type": "code",
      "source": [
        "import requests\n",
        "import json\n",
        "from IPython.display import display, HTML\n",
        "\n",
        "def display_cards_grid(data):\n",
        "    \"\"\"Displays card images in a responsive grid.\n",
        "\n",
        "    Args:\n",
        "      data: The JSON response from the Scryfall API.\n",
        "    \"\"\"\n",
        "\n",
        "    if data and data.get('data'):\n",
        "      html = '<div style=\"display: grid; grid-template-columns: repeat(auto-fit, minmax(150px, 1fr)); grid-gap: 10px;\">'\n",
        "      for card in data['data']:\n",
        "          if 'image_uris' in card and 'normal' in card['image_uris']:\n",
        "              html += f'<img src=\"{card[\"image_uris\"][\"normal\"]}\" alt=\"{card[\"name\"]}\" style=\"width: 100%; height: auto;\">'\n",
        "      html += '</div>'\n",
        "      display(HTML(html))\n",
        "    else:\n",
        "      print(\"No card data to display or invalid data format.\")\n"
      ],
      "metadata": {
        "collapsed": true,
        "id": "WbaaQh8oK_Mo"
      },
      "execution_count": null,
      "outputs": []
    },
    {
      "cell_type": "markdown",
      "source": [
        "## Test it out\n",
        "\n",
        "If you want, you can try out the function to see how it works. This can be skipped and it won't affect the real work to come later. But if you want to test out displaying the cards, you will need to run this test first."
      ],
      "metadata": {
        "id": "Q7p16LrqDbDb"
      }
    },
    {
      "cell_type": "code",
      "source": [
        "# Example usage:\n",
        "# Search for pirate cards with power exactly 4.\n",
        "cards_data = get_scryfall_cards(query=\"type:pirate power:4\")\n",
        "\n",
        "# Check if the request was successful and data was retrieved\n",
        "if cards_data and \"data\" in cards_data:\n",
        "    print(f\"Found {len(cards_data['data'])} cards.\")\n",
        "    # Access individual cards\n",
        "    for card in cards_data['data']:\n",
        "      print(card['name'])\n",
        "else:\n",
        "    print(\"No cards found or an error occurred.\")"
      ],
      "metadata": {
        "collapsed": true,
        "id": "ZASoopbWDTVJ"
      },
      "execution_count": null,
      "outputs": []
    },
    {
      "cell_type": "markdown",
      "source": [
        "Display the cards that were just fetched. Note that this will only work if you ran the test above."
      ],
      "metadata": {
        "id": "D2PD0uBhEkYR"
      }
    },
    {
      "cell_type": "code",
      "source": [
        "\n",
        "if cards_data:\n",
        "    display_cards_grid(cards_data)\n",
        "else:\n",
        "    print(\"Failed to fetch card data.\")"
      ],
      "metadata": {
        "collapsed": true,
        "id": "zhpCzz1eD0tD"
      },
      "execution_count": null,
      "outputs": []
    },
    {
      "cell_type": "markdown",
      "source": [
        "# Just Search by Card Name\n",
        "\n",
        "This little section will let you just search for cards by name. No other parameters. Note that it will search for every card that contains the string you provide to it. So if you search for \"Shock\" then you'll get every card that has the word \"shock\" in it somewhere."
      ],
      "metadata": {
        "id": "hnEBBR8OE3mp"
      }
    },
    {
      "cell_type": "code",
      "source": [
        "import ipywidgets as widgets\n",
        "from IPython.display import display, clear_output\n",
        "\n",
        "# Assuming the previous code (get_scryfall_data, display_cards_grid) is defined in the same notebook\n",
        "\n",
        "# Create a text input widget\n",
        "card_name_input = widgets.Text(\n",
        "    placeholder='Enter card name',\n",
        "    description='Card Name:',\n",
        "    disabled=False\n",
        ")\n",
        "\n",
        "# Create an output widget to display results\n",
        "output = widgets.Output()\n",
        "\n",
        "def on_button_clicked(b):\n",
        "    with output:\n",
        "        clear_output()  # Clear previous output\n",
        "        card_name = card_name_input.value\n",
        "        if card_name:\n",
        "            query = f\"name=\\\"{card_name}\\\"\"  # Construct query with quotes\n",
        "            data = get_scryfall_cards(query)\n",
        "            if data:\n",
        "                display_cards_grid(data)\n",
        "            else:\n",
        "                print(f\"No card found with name: {card_name}\")\n",
        "        else:\n",
        "            print(\"Please enter a card name.\")\n",
        "\n",
        "# Create a button\n",
        "search_button = widgets.Button(description=\"Search\")\n",
        "search_button.on_click(on_button_clicked)\n",
        "\n",
        "\n",
        "# Display the widgets\n",
        "display(card_name_input, search_button, output)"
      ],
      "metadata": {
        "id": "hWu9TvKELSwJ"
      },
      "execution_count": null,
      "outputs": []
    },
    {
      "cell_type": "markdown",
      "source": [],
      "metadata": {
        "id": "TV4D8PiLqjwi"
      }
    },
    {
      "cell_type": "code",
      "source": [
        "set_name = \"fdn\" #@param {type:\"string\"}\n",
        "\n",
        "query = f\"set={set_name} t:pirate colors<=grixis\"\n",
        "cards_data = get_scryfall_cards(query)\n",
        "\n",
        "if cards_data and \"data\" in cards_data:\n",
        "    print(f\"Found {len(cards_data['data'])} cards.\")\n",
        "    display_cards_grid(cards_data)\n",
        "else:\n",
        "    print(\"No cards found or an error occurred.\")"
      ],
      "metadata": {
        "id": "kLmjsDri16qW"
      },
      "execution_count": null,
      "outputs": []
    },
    {
      "cell_type": "markdown",
      "source": [
        "# Deck Update Checks\n",
        "\n",
        "Each of the following subsections is a specific check for one of my commander decks to see if there are cards of interest to update those decks.\n",
        "\n",
        "This is where things get pretty specific using the general functions from above."
      ],
      "metadata": {
        "id": "YrZDRmhoLfRm"
      }
    },
    {
      "cell_type": "markdown",
      "source": [
        "## Pirates\n",
        "\n",
        "[My Grixis pirates deck](https://archidekt.com/decks/1797659/pirates) wants to know if there are any new pirates for it."
      ],
      "metadata": {
        "id": "Nc1wysjFC8O2"
      }
    },
    {
      "cell_type": "code",
      "source": [
        "set_name = \"fdn\" #@param {type:\"string\"}\n",
        "\n",
        "query = f\"set={set_name} t:pirate colors<=grixis\"\n",
        "cards_data = get_scryfall_cards(query)\n",
        "\n",
        "if cards_data and \"data\" in cards_data:\n",
        "    print(f\"Found {len(cards_data['data'])} cards.\")\n",
        "    display_cards_grid(cards_data)\n",
        "else:\n",
        "    print(\"No cards found or an error occurred.\")"
      ],
      "metadata": {
        "id": "l6QFa6uTDHTF"
      },
      "execution_count": null,
      "outputs": []
    },
    {
      "cell_type": "markdown",
      "source": [
        "## Saskia 7's\n",
        "\n",
        "[This deck](https://archidekt.com/decks/3030384/saskia_7s) concept taken from Jim LaPage leverages Wild Pair and a pile of creatures with toughness+power=7. Wild Pair really is the secret commander of this deck. Just give a set name and it will return all the creatures with the right sum of power and toughness from that set in Saskia's colors!"
      ],
      "metadata": {
        "id": "rSt83i0AFZP8"
      }
    },
    {
      "cell_type": "code",
      "source": [
        "set_name = \"tdc\" #@param {type:\"string\"}\n",
        "\n",
        "query = f\"set={set_name} f:commander type:creature id<=wbrg pt=7 not:reprint\"\n",
        "cards_data = get_scryfall_cards(query)\n",
        "\n",
        "if cards_data and \"data\" in cards_data:\n",
        "    print(f\"Found {len(cards_data['data'])} cards.\")\n",
        "    display_cards_grid(cards_data)\n",
        "else:\n",
        "    print(\"No cards found or an error occurred.\")"
      ],
      "metadata": {
        "collapsed": true,
        "id": "JLy0__lFF3D0"
      },
      "execution_count": null,
      "outputs": []
    },
    {
      "cell_type": "markdown",
      "source": [
        "## Bello\n",
        "\n",
        "I love [my Bello deck](https://archidekt.com/decks/8759830/bigo_bello_enchanto). Look for Red/Green enhantments that cost at least 4 mana."
      ],
      "metadata": {
        "id": "vJP2kbjBGFKR"
      }
    },
    {
      "cell_type": "code",
      "source": [
        "set_name = \"tdm\" #@param {type:\"string\"}\n",
        "\n",
        "query = f\"set={set_name} f:commander type:enchantment id<=rg mv>=4 not:reprint\"\n",
        "cards_data = get_scryfall_cards(query)\n",
        "\n",
        "if cards_data and \"data\" in cards_data:\n",
        "    print(f\"Found {len(cards_data['data'])} cards.\")\n",
        "    display_cards_grid(cards_data)\n",
        "else:\n",
        "    print(\"No cards found or an error occurred.\")"
      ],
      "metadata": {
        "id": "h_0LFbqRGW5T"
      },
      "execution_count": null,
      "outputs": []
    },
    {
      "cell_type": "markdown",
      "source": [
        "## Mono-Blue Scrybal\n",
        "\n",
        "Look for new, blue scry cards for [my scrybal deck](https://archidekt.com/decks/2206475/scrybal)."
      ],
      "metadata": {
        "id": "cdfbSXPHHBKv"
      }
    },
    {
      "cell_type": "code",
      "source": [
        "set_name = \"tdm\" #@param {type:\"string\"}\n",
        "\n",
        "query = f\"set={set_name} f:commander id<=u o:\\\"scry\\\" not:reprint\"\n",
        "cards_data = get_scryfall_cards(query)\n",
        "\n",
        "if cards_data and \"data\" in cards_data:\n",
        "    print(f\"Found {len(cards_data['data'])} cards.\")\n",
        "    display_cards_grid(cards_data)\n",
        "else:\n",
        "    print(\"No cards found or an error occurred.\")"
      ],
      "metadata": {
        "id": "SntEXiCpG_tE"
      },
      "execution_count": null,
      "outputs": []
    },
    {
      "cell_type": "markdown",
      "source": [
        "## Mono-White Legends Matter (Dog and Pony Show)\n",
        "\n",
        "A deck with [Yoshimaru and Keleth](https://archidekt.com/decks/7812709/dog_and_pony_show) at the helm. Look for new Legends to go in this deck."
      ],
      "metadata": {
        "id": "hRwhUkkBJLT_"
      }
    },
    {
      "cell_type": "code",
      "source": [
        "set_name = \"tdc\" #@param {type:\"string\"}\n",
        "\n",
        "query = f\"set={set_name} f:commander id<=w t:Legendary not:reprint\"\n",
        "cards_data = get_scryfall_cards(query)\n",
        "\n",
        "if cards_data and \"data\" in cards_data:\n",
        "    print(f\"Found {len(cards_data['data'])} cards.\")\n",
        "    display_cards_grid(cards_data)\n",
        "else:\n",
        "    print(\"No cards found or an error occurred.\")"
      ],
      "metadata": {
        "id": "CLhv-amIJmRy"
      },
      "execution_count": null,
      "outputs": []
    }
  ]
}